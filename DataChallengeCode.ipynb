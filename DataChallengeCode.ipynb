{
 "cells": [
  {
   "cell_type": "code",
   "execution_count": 51,
   "metadata": {
    "collapsed": true
   },
   "outputs": [],
   "source": [
    "import time"
   ]
  },
  {
   "cell_type": "markdown",
   "metadata": {},
   "source": [
    "# First exercise: count the number of lines in Python for each file"
   ]
  },
  {
   "cell_type": "code",
   "execution_count": 12,
   "metadata": {
    "collapsed": false
   },
   "outputs": [
    {
     "name": "stdout",
     "output_type": "stream",
     "text": [
      "Booking Data took: 178.203999996\n"
     ]
    }
   ],
   "source": [
    "timeB = time.time()\n",
    "countB = 0\n",
    "for line in open('Data/bookings.csv'): countB += 1\n",
    "print('count number of Booking Data took: '+str(time.time()-timeB))"
   ]
  },
  {
   "cell_type": "code",
   "execution_count": 13,
   "metadata": {
    "collapsed": false
   },
   "outputs": [
    {
     "name": "stdout",
     "output_type": "stream",
     "text": [
      "10000011\n"
     ]
    }
   ],
   "source": [
    "print(countB)"
   ]
  },
  {
   "cell_type": "code",
   "execution_count": 10,
   "metadata": {
    "collapsed": false
   },
   "outputs": [
    {
     "name": "stdout",
     "output_type": "stream",
     "text": [
      "Searches Data took: 160.325999975\n"
     ]
    }
   ],
   "source": [
    "timeS = time.time()\n",
    "countS = 0\n",
    "for line in open('Data/searches.csv'): countS += 1\n",
    "print('count number of Searches Data took: '+str(time.time()-timeS))"
   ]
  },
  {
   "cell_type": "code",
   "execution_count": 11,
   "metadata": {
    "collapsed": false
   },
   "outputs": [
    {
     "name": "stdout",
     "output_type": "stream",
     "text": [
      "20390199\n"
     ]
    }
   ],
   "source": [
    "print(countS)"
   ]
  },
  {
   "cell_type": "markdown",
   "metadata": {},
   "source": [
    "# Second exercise: top 10 arrival airports in the world in 2013"
   ]
  },
  {
   "cell_type": "markdown",
   "metadata": {},
   "source": [
    "Arrival airport is the column arr_port. It is the IATA code for the airport\n",
    "\n",
    "To get the total number of passengers for an airport, you can sum the column pax, grouping by arr_port. Note that there is negative pax. That corresponds to cancelations. So to get the total number of passengers that have actually booked, you should sum including the negatives (that will remove the cancelled bookings).\n",
    "\n",
    "Print the top 10 arrival airports in the standard output, including the number of passengers.\n",
    "\n",
    "Bonus point: Get the name of the city or airport corresponding to that airport (programatically, we suggest to have a look at GeoBases in Github)\n",
    "\n",
    "Bonus point: Solve this problem using pandas (instead of any other approach)"
   ]
  },
  {
   "cell_type": "code",
   "execution_count": 2,
   "metadata": {
    "collapsed": false
   },
   "outputs": [],
   "source": [
    "import pandas as pd\n",
    "import numpy as np\n",
    "from sqlalchemy import create_engine # database connection\n",
    "from GeoBases import GeoBase"
   ]
  },
  {
   "cell_type": "code",
   "execution_count": 81,
   "metadata": {
    "collapsed": true
   },
   "outputs": [],
   "source": [
    "#remove space blanks from string values\n",
    "def strip(text):\n",
    "    try:\n",
    "        return str(text).strip() #avoid mixed types\n",
    "    except AttributeError:\n",
    "        return ''"
   ]
  },
  {
   "cell_type": "code",
   "execution_count": 10,
   "metadata": {
    "collapsed": true
   },
   "outputs": [],
   "source": [
    "disk_engine = create_engine('sqlite:///Data/database.db') # Initializes database with filename database.db in current directory"
   ]
  },
  {
   "cell_type": "code",
   "execution_count": 8,
   "metadata": {
    "collapsed": false,
    "scrolled": true
   },
   "outputs": [
    {
     "name": "stdout",
     "output_type": "stream",
     "text": [
      "saving in sql\n",
      "saving in sql\n",
      "saving in sql\n",
      "saving in sql\n",
      "saving in sql\n",
      "saving in sql\n",
      "saving in sql\n",
      "saving in sql\n",
      "saving in sql\n",
      "saving in sql\n",
      "saving in sql\n",
      "saving in sql\n",
      "saving in sql\n",
      "saving in sql\n",
      "saving in sql\n",
      "saving in sql\n",
      "saving in sql\n",
      "saving in sql\n",
      "saving in sql\n",
      "saving in sql\n",
      "saving in sql\n",
      "saving in sql\n",
      "saving in sql\n",
      "saving in sql\n",
      "saving in sql\n",
      "saving in sql\n",
      "saving in sql\n",
      "saving in sql\n",
      "saving in sql\n",
      "saving in sql\n",
      "saving in sql\n",
      "saving in sql\n",
      "saving in sql\n",
      "saving in sql\n",
      "saving in sql\n",
      "saving in sql\n",
      "saving in sql\n",
      "saving in sql\n",
      "saving in sql\n",
      "saving in sql\n",
      "saving in sql\n",
      "saving in sql\n",
      "saving in sql\n",
      "saving in sql\n",
      "saving in sql\n",
      "saving in sql\n",
      "saving in sql\n",
      "saving in sql\n",
      "saving in sql\n",
      "saving in sql\n",
      "saving in sql\n"
     ]
    },
    {
     "name": "stderr",
     "output_type": "stream",
     "text": [
      "C:\\Users\\miou\\Anaconda2\\lib\\site-packages\\ipykernel\\ipkernel.py:175: DtypeWarning: Columns (7,8,27) have mixed types. Specify dtype option on import or set low_memory=False.\n",
      "  shell.run_cell(code, store_history=store_history, silent=silent)\n"
     ]
    }
   ],
   "source": [
    "chunksize = 200000\n",
    "j = 1\n",
    "index_start = 1\n",
    "\n",
    "for df in pd.read_csv('Data/bookings.csv', chunksize=chunksize, iterator=True, encoding='utf-8', sep ='^'):\n",
    "    \n",
    "    df = df.rename(columns={c: c.replace(' ', '') for c in df.columns}) # Remove spaces from columns\n",
    "    df.index += index_start\n",
    "    \n",
    "    for col in df.columns:\n",
    "        if df.dtypes[col].name == 'object':\n",
    "            df[col] = df[col].map(lambda row:strip(row))\n",
    "        else:\n",
    "            df[col] = df[col].map(lambda row:make_int(row))\n",
    "                      \n",
    "    \n",
    "    print(str(j)+'. saving in sql')\n",
    "    \n",
    "    df.to_sql('bookings', disk_engine, if_exists='append')\n",
    "    index_start = df.index[-1] + 1\n",
    "    j = j + 1"
   ]
  },
  {
   "cell_type": "code",
   "execution_count": 36,
   "metadata": {
    "collapsed": false
   },
   "outputs": [],
   "source": [
    "df = pd.read_sql_query('SELECT arr_port, sum(pax) as `sum`'\n",
    "                       'FROM bookings '\n",
    "                       'GROUP BY arr_port ', disk_engine)"
   ]
  },
  {
   "cell_type": "code",
   "execution_count": 26,
   "metadata": {
    "collapsed": false
   },
   "outputs": [],
   "source": [
    "topArr = df.sort_values('sum',ascending = False)[:10]"
   ]
  },
  {
   "cell_type": "code",
   "execution_count": 27,
   "metadata": {
    "collapsed": false
   },
   "outputs": [],
   "source": [
    "geo_a = GeoBase(data='airports', verbose=False)\n",
    "topArr['arr_city'] = topArr['arr_port'].map(lambda value: geo_a.get(value, 'name'))"
   ]
  },
  {
   "cell_type": "code",
   "execution_count": 28,
   "metadata": {
    "collapsed": false
   },
   "outputs": [
    {
     "data": {
      "text/html": [
       "<div>\n",
       "<table border=\"1\" class=\"dataframe\">\n",
       "  <thead>\n",
       "    <tr style=\"text-align: right;\">\n",
       "      <th></th>\n",
       "      <th>arr_port</th>\n",
       "      <th>sum</th>\n",
       "      <th>arr_city</th>\n",
       "    </tr>\n",
       "  </thead>\n",
       "  <tbody>\n",
       "    <tr>\n",
       "      <th>1088</th>\n",
       "      <td>LHR</td>\n",
       "      <td>86836</td>\n",
       "      <td>London Heathrow Airport</td>\n",
       "    </tr>\n",
       "    <tr>\n",
       "      <th>1190</th>\n",
       "      <td>MCO</td>\n",
       "      <td>69199</td>\n",
       "      <td>Orlando International Airport</td>\n",
       "    </tr>\n",
       "    <tr>\n",
       "      <th>1050</th>\n",
       "      <td>LAX</td>\n",
       "      <td>69072</td>\n",
       "      <td>Los Angeles International Airport</td>\n",
       "    </tr>\n",
       "    <tr>\n",
       "      <th>1047</th>\n",
       "      <td>LAS</td>\n",
       "      <td>68117</td>\n",
       "      <td>McCarran International Airport</td>\n",
       "    </tr>\n",
       "    <tr>\n",
       "      <th>886</th>\n",
       "      <td>JFK</td>\n",
       "      <td>64872</td>\n",
       "      <td>John F Kennedy International Airport</td>\n",
       "    </tr>\n",
       "    <tr>\n",
       "      <th>315</th>\n",
       "      <td>CDG</td>\n",
       "      <td>63114</td>\n",
       "      <td>Paris - Charles-de-Gaulle</td>\n",
       "    </tr>\n",
       "    <tr>\n",
       "      <th>216</th>\n",
       "      <td>BKK</td>\n",
       "      <td>58180</td>\n",
       "      <td>Suvarnabhumi</td>\n",
       "    </tr>\n",
       "    <tr>\n",
       "      <th>1228</th>\n",
       "      <td>MIA</td>\n",
       "      <td>56859</td>\n",
       "      <td>Miami International Airport</td>\n",
       "    </tr>\n",
       "    <tr>\n",
       "      <th>1719</th>\n",
       "      <td>SFO</td>\n",
       "      <td>56679</td>\n",
       "      <td>San Francisco International Airport</td>\n",
       "    </tr>\n",
       "    <tr>\n",
       "      <th>517</th>\n",
       "      <td>DXB</td>\n",
       "      <td>54443</td>\n",
       "      <td>Dubai International Airport</td>\n",
       "    </tr>\n",
       "  </tbody>\n",
       "</table>\n",
       "</div>"
      ],
      "text/plain": [
       "     arr_port    sum                              arr_city\n",
       "1088      LHR  86836               London Heathrow Airport\n",
       "1190      MCO  69199         Orlando International Airport\n",
       "1050      LAX  69072     Los Angeles International Airport\n",
       "1047      LAS  68117        McCarran International Airport\n",
       "886       JFK  64872  John F Kennedy International Airport\n",
       "315       CDG  63114             Paris - Charles-de-Gaulle\n",
       "216       BKK  58180                          Suvarnabhumi\n",
       "1228      MIA  56859           Miami International Airport\n",
       "1719      SFO  56679   San Francisco International Airport\n",
       "517       DXB  54443           Dubai International Airport"
      ]
     },
     "execution_count": 28,
     "metadata": {},
     "output_type": "execute_result"
    }
   ],
   "source": [
    "topArr"
   ]
  },
  {
   "cell_type": "markdown",
   "metadata": {
    "collapsed": true
   },
   "source": [
    "# Third exercise: plot the monthly number of searches for flights arriving at Málaga, Madrid or Barcelona"
   ]
  },
  {
   "cell_type": "markdown",
   "metadata": {},
   "source": [
    "For the arriving airport, you can use the Destination column in the searches file. Plot a curve for Málaga, another one for Madrid, and another one for Barcelona, in the same figure."
   ]
  },
  {
   "cell_type": "code",
   "execution_count": 24,
   "metadata": {
    "collapsed": false
   },
   "outputs": [],
   "source": [
    "%matplotlib inline\n",
    "import matplotlib as mpl\n",
    "import matplotlib.pyplot as plt\n",
    "#import seaborn as sns"
   ]
  },
  {
   "cell_type": "code",
   "execution_count": 21,
   "metadata": {
    "collapsed": false
   },
   "outputs": [],
   "source": [
    "import plotly.plotly as py # interactive graphing\n",
    "from plotly.graph_objs import Bar, Scatter, Marker, Layout "
   ]
  },
  {
   "cell_type": "code",
   "execution_count": 29,
   "metadata": {
    "collapsed": false,
    "scrolled": true
   },
   "outputs": [
    {
     "name": "stdout",
     "output_type": "stream",
     "text": [
      "1. saving in sql\n",
      "2. saving in sql\n",
      "3. saving in sql\n",
      "4. saving in sql\n",
      "5. saving in sql\n",
      "6. saving in sql\n",
      "7. saving in sql"
     ]
    },
    {
     "name": "stderr",
     "output_type": "stream",
     "text": [
      "C:\\Users\\miou\\Anaconda2\\lib\\site-packages\\ipykernel\\ipkernel.py:175: DtypeWarning: Columns (44) have mixed types. Specify dtype option on import or set low_memory=False.\n",
      "  shell.run_cell(code, store_history=store_history, silent=silent)\n",
      "C:\\Users\\miou\\Anaconda2\\lib\\site-packages\\ipykernel\\ipkernel.py:175: DtypeWarning: Columns (40,41,42,44) have mixed types. Specify dtype option on import or set low_memory=False.\n",
      "  shell.run_cell(code, store_history=store_history, silent=silent)\n"
     ]
    },
    {
     "name": "stdout",
     "output_type": "stream",
     "text": [
      "\n",
      "8. saving in sql\n",
      "9. saving in sql\n",
      "10. saving in sql\n",
      "11. saving in sql\n",
      "12. saving in sql\n",
      "13. saving in sql\n",
      "14. saving in sql\n",
      "15. saving in sql\n",
      "16. saving in sql\n",
      "17. saving in sql\n",
      "18. saving in sql\n",
      "19. saving in sql\n",
      "20. saving in sql\n",
      "21. saving in sql\n",
      "22. saving in sql\n",
      "23. saving in sql\n",
      "24. saving in sql\n",
      "25. saving in sql\n",
      "26. saving in sql\n",
      "27. saving in sql\n",
      "28. saving in sql\n",
      "29. saving in sql\n",
      "30. saving in sql\n",
      "31. saving in sql\n",
      "32. saving in sql\n",
      "33. saving in sql\n",
      "34. saving in sql\n",
      "35. saving in sql\n",
      "36. saving in sql\n",
      "37. saving in sql\n",
      "38. saving in sql\n",
      "39. saving in sql\n",
      "40. saving in sql\n",
      "41. saving in sql\n",
      "42. saving in sql\n",
      "43. saving in sql\n",
      "44. saving in sql\n",
      "45. saving in sql\n",
      "46. saving in sql\n",
      "47. saving in sql\n",
      "48. saving in sql\n",
      "49. saving in sql\n",
      "50. saving in sql\n",
      "51. saving in sql\n",
      "52. saving in sql\n",
      "53. saving in sql\n",
      "54. saving in sql\n",
      "55. saving in sql\n",
      "56. saving in sql\n",
      "57. saving in sql\n",
      "58. saving in sql\n",
      "59. saving in sql\n",
      "60. saving in sql\n",
      "61. saving in sql\n",
      "62. saving in sql\n",
      "63. saving in sql\n",
      "64. saving in sql\n",
      "65. saving in sql\n",
      "66. saving in sql\n",
      "67. saving in sql\n",
      "68. saving in sql\n",
      "69. saving in sql\n",
      "70. saving in sql\n",
      "71. saving in sql\n",
      "72. saving in sql\n",
      "73. saving in sql\n",
      "74. saving in sql\n",
      "75. saving in sql\n",
      "76. saving in sql\n",
      "77. saving in sql\n",
      "78. saving in sql\n",
      "79. saving in sql\n",
      "80. saving in sql\n",
      "81. saving in sql\n",
      "82. saving in sql\n",
      "83. saving in sql\n",
      "84. saving in sql\n",
      "85. saving in sql\n",
      "86. saving in sql\n",
      "87. saving in sql\n",
      "88. saving in sql\n",
      "89. saving in sql\n",
      "90. saving in sql\n",
      "91. saving in sql\n",
      "92. saving in sql\n",
      "93. saving in sql\n",
      "94. saving in sql\n",
      "95. saving in sql\n",
      "96. saving in sql\n",
      "97. saving in sql\n",
      "98. saving in sql\n",
      "99. saving in sql\n",
      "100. saving in sql\n",
      "101. saving in sql\n",
      "102. saving in sql\n"
     ]
    },
    {
     "name": "stderr",
     "output_type": "stream",
     "text": [
      "C:\\Users\\miou\\Anaconda2\\lib\\site-packages\\ipykernel\\ipkernel.py:175: DtypeWarning: Columns (40,41,42) have mixed types. Specify dtype option on import or set low_memory=False.\n",
      "  shell.run_cell(code, store_history=store_history, silent=silent)\n"
     ]
    }
   ],
   "source": [
    "chunksize = 200000\n",
    "j = 1\n",
    "index_start = 1\n",
    "\n",
    "for df in pd.read_csv('Data/searches.csv', chunksize=chunksize, iterator=True, encoding='utf-8', sep ='^'):\n",
    "    df.index += index_start\n",
    "    \n",
    "    for col in df.columns:\n",
    "        if df.dtypes[col].name == 'object':\n",
    "            df[col] = df[col].map(lambda row:strip(row))\n",
    "                      \n",
    "    \n",
    "    print(str(j)+'. saving in sql')\n",
    "    \n",
    "    df.to_sql('searches', disk_engine, if_exists='append')\n",
    "    index_start = df.index[-1] + 1\n",
    "    j = j + 1"
   ]
  },
  {
   "cell_type": "code",
   "execution_count": 11,
   "metadata": {
    "collapsed": false
   },
   "outputs": [],
   "source": [
    "query = pd.read_sql_query('SELECT Destination, Date '\n",
    "                          'FROM searches '\n",
    "                          'WHERE Destination = \"AGP\" OR Destination = \"MAD\" OR Destination = \"BCN\" ' , disk_engine)"
   ]
  },
  {
   "cell_type": "code",
   "execution_count": 12,
   "metadata": {
    "collapsed": false
   },
   "outputs": [],
   "source": [
    "query['Date'] = pd.to_datetime(query['Date']) #convert columns string date to object date format"
   ]
  },
  {
   "cell_type": "code",
   "execution_count": 87,
   "metadata": {
    "collapsed": false
   },
   "outputs": [
    {
     "data": {
      "text/plain": [
       "array([2013], dtype=int64)"
      ]
     },
     "execution_count": 87,
     "metadata": {},
     "output_type": "execute_result"
    }
   ],
   "source": [
    "np.unique(query.Date.dt.year) #verify number of year"
   ]
  },
  {
   "cell_type": "code",
   "execution_count": 77,
   "metadata": {
    "collapsed": true
   },
   "outputs": [],
   "source": [
    "geo_a = GeoBase(data='airports', verbose=False)\n",
    "query['Destination'] = query['Destination'].map(lambda value: geo_a.get(value, 'name'))"
   ]
  },
  {
   "cell_type": "code",
   "execution_count": 78,
   "metadata": {
    "collapsed": false
   },
   "outputs": [],
   "source": [
    "gb = query.groupby(['Destination', query.Date.dt.month]).count()"
   ]
  },
  {
   "cell_type": "code",
   "execution_count": 79,
   "metadata": {
    "collapsed": false
   },
   "outputs": [
    {
     "data": {
      "text/html": [
       "<div>\n",
       "<table border=\"1\" class=\"dataframe\">\n",
       "  <thead>\n",
       "    <tr style=\"text-align: right;\">\n",
       "      <th></th>\n",
       "      <th></th>\n",
       "      <th>Date</th>\n",
       "    </tr>\n",
       "    <tr>\n",
       "      <th>Destination</th>\n",
       "      <th>Date</th>\n",
       "      <th></th>\n",
       "    </tr>\n",
       "  </thead>\n",
       "  <tbody>\n",
       "    <tr>\n",
       "      <th rowspan=\"12\" valign=\"top\">Aeroport de Barcelona - el Prat</th>\n",
       "      <th>1</th>\n",
       "      <td>29469</td>\n",
       "    </tr>\n",
       "    <tr>\n",
       "      <th>2</th>\n",
       "      <td>28329</td>\n",
       "    </tr>\n",
       "    <tr>\n",
       "      <th>3</th>\n",
       "      <td>30552</td>\n",
       "    </tr>\n",
       "    <tr>\n",
       "      <th>4</th>\n",
       "      <td>31236</td>\n",
       "    </tr>\n",
       "    <tr>\n",
       "      <th>5</th>\n",
       "      <td>28728</td>\n",
       "    </tr>\n",
       "    <tr>\n",
       "      <th>6</th>\n",
       "      <td>26505</td>\n",
       "    </tr>\n",
       "    <tr>\n",
       "      <th>7</th>\n",
       "      <td>29241</td>\n",
       "    </tr>\n",
       "    <tr>\n",
       "      <th>8</th>\n",
       "      <td>27075</td>\n",
       "    </tr>\n",
       "    <tr>\n",
       "      <th>9</th>\n",
       "      <td>23427</td>\n",
       "    </tr>\n",
       "    <tr>\n",
       "      <th>10</th>\n",
       "      <td>20276</td>\n",
       "    </tr>\n",
       "    <tr>\n",
       "      <th>11</th>\n",
       "      <td>19824</td>\n",
       "    </tr>\n",
       "    <tr>\n",
       "      <th>12</th>\n",
       "      <td>15400</td>\n",
       "    </tr>\n",
       "    <tr>\n",
       "      <th rowspan=\"12\" valign=\"top\">Madrid / Barajas</th>\n",
       "      <th>1</th>\n",
       "      <td>24258</td>\n",
       "    </tr>\n",
       "    <tr>\n",
       "      <th>2</th>\n",
       "      <td>22800</td>\n",
       "    </tr>\n",
       "    <tr>\n",
       "      <th>3</th>\n",
       "      <td>24681</td>\n",
       "    </tr>\n",
       "    <tr>\n",
       "      <th>4</th>\n",
       "      <td>25251</td>\n",
       "    </tr>\n",
       "    <tr>\n",
       "      <th>5</th>\n",
       "      <td>26334</td>\n",
       "    </tr>\n",
       "    <tr>\n",
       "      <th>6</th>\n",
       "      <td>22800</td>\n",
       "    </tr>\n",
       "    <tr>\n",
       "      <th>7</th>\n",
       "      <td>22971</td>\n",
       "    </tr>\n",
       "    <tr>\n",
       "      <th>8</th>\n",
       "      <td>21831</td>\n",
       "    </tr>\n",
       "    <tr>\n",
       "      <th>9</th>\n",
       "      <td>21147</td>\n",
       "    </tr>\n",
       "    <tr>\n",
       "      <th>10</th>\n",
       "      <td>22294</td>\n",
       "    </tr>\n",
       "    <tr>\n",
       "      <th>11</th>\n",
       "      <td>20272</td>\n",
       "    </tr>\n",
       "    <tr>\n",
       "      <th>12</th>\n",
       "      <td>14504</td>\n",
       "    </tr>\n",
       "    <tr>\n",
       "      <th rowspan=\"12\" valign=\"top\">Malaga / Aeropuerto</th>\n",
       "      <th>1</th>\n",
       "      <td>9633</td>\n",
       "    </tr>\n",
       "    <tr>\n",
       "      <th>2</th>\n",
       "      <td>8379</td>\n",
       "    </tr>\n",
       "    <tr>\n",
       "      <th>3</th>\n",
       "      <td>10659</td>\n",
       "    </tr>\n",
       "    <tr>\n",
       "      <th>4</th>\n",
       "      <td>8265</td>\n",
       "    </tr>\n",
       "    <tr>\n",
       "      <th>5</th>\n",
       "      <td>10830</td>\n",
       "    </tr>\n",
       "    <tr>\n",
       "      <th>6</th>\n",
       "      <td>7923</td>\n",
       "    </tr>\n",
       "    <tr>\n",
       "      <th>7</th>\n",
       "      <td>8892</td>\n",
       "    </tr>\n",
       "    <tr>\n",
       "      <th>8</th>\n",
       "      <td>7866</td>\n",
       "    </tr>\n",
       "    <tr>\n",
       "      <th>9</th>\n",
       "      <td>8151</td>\n",
       "    </tr>\n",
       "    <tr>\n",
       "      <th>10</th>\n",
       "      <td>6499</td>\n",
       "    </tr>\n",
       "    <tr>\n",
       "      <th>11</th>\n",
       "      <td>6384</td>\n",
       "    </tr>\n",
       "    <tr>\n",
       "      <th>12</th>\n",
       "      <td>3696</td>\n",
       "    </tr>\n",
       "  </tbody>\n",
       "</table>\n",
       "</div>"
      ],
      "text/plain": [
       "                                       Date\n",
       "Destination                     Date       \n",
       "Aeroport de Barcelona - el Prat 1     29469\n",
       "                                2     28329\n",
       "                                3     30552\n",
       "                                4     31236\n",
       "                                5     28728\n",
       "                                6     26505\n",
       "                                7     29241\n",
       "                                8     27075\n",
       "                                9     23427\n",
       "                                10    20276\n",
       "                                11    19824\n",
       "                                12    15400\n",
       "Madrid / Barajas                1     24258\n",
       "                                2     22800\n",
       "                                3     24681\n",
       "                                4     25251\n",
       "                                5     26334\n",
       "                                6     22800\n",
       "                                7     22971\n",
       "                                8     21831\n",
       "                                9     21147\n",
       "                                10    22294\n",
       "                                11    20272\n",
       "                                12    14504\n",
       "Malaga / Aeropuerto             1      9633\n",
       "                                2      8379\n",
       "                                3     10659\n",
       "                                4      8265\n",
       "                                5     10830\n",
       "                                6      7923\n",
       "                                7      8892\n",
       "                                8      7866\n",
       "                                9      8151\n",
       "                                10     6499\n",
       "                                11     6384\n",
       "                                12     3696"
      ]
     },
     "execution_count": 79,
     "metadata": {},
     "output_type": "execute_result"
    }
   ],
   "source": [
    "gb"
   ]
  },
  {
   "cell_type": "code",
   "execution_count": 80,
   "metadata": {
    "collapsed": false,
    "scrolled": false
   },
   "outputs": [
    {
     "data": {
      "text/plain": [
       "<matplotlib.axes._subplots.AxesSubplot at 0x169ee5d0>"
      ]
     },
     "execution_count": 80,
     "metadata": {},
     "output_type": "execute_result"
    },
    {
     "data": {
      "image/png": "[encoded data removed]",
      "text/plain": [
       "<matplotlib.figure.Figure at 0x111a8cb0>"
      ]
     },
     "metadata": {},
     "output_type": "display_data"
    }
   ],
   "source": [
    "fig, ax = plt.subplots(figsize=(10,10))\n",
    "gb.unstack(level=0).plot(kind='bar', subplots=False, ax=ax)"
   ]
  }
 ],
 "metadata": {
  "kernelspec": {
   "display_name": "Python 2",
   "language": "python",
   "name": "python2"
  },
  "language_info": {
   "codemirror_mode": {
    "name": "ipython",
    "version": 2
   },
   "file_extension": ".py",
   "mimetype": "text/x-python",
   "name": "python",
   "nbconvert_exporter": "python",
   "pygments_lexer": "ipython2",
   "version": "2.7.11"
  }
 },
 "nbformat": 4,
 "nbformat_minor": 0
}
