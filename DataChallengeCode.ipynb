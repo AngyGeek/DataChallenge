{
 "cells": [
  {
   "cell_type": "code",
   "execution_count": 9,
   "metadata": {
    "collapsed": true
   },
   "outputs": [],
   "source": [
    "import time"
   ]
  },
  {
   "cell_type": "markdown",
   "metadata": {},
   "source": [
    "# First exercise: count the number of lines in Python for each file"
   ]
  },
  {
   "cell_type": "code",
   "execution_count": 12,
   "metadata": {
    "collapsed": false
   },
   "outputs": [
    {
     "name": "stdout",
     "output_type": "stream",
     "text": [
      "Booking Data took: 178.203999996\n"
     ]
    }
   ],
   "source": [
    "timeB = time.time()\n",
    "countB = 0\n",
    "for line in open('Data/bookings.csv'): countB += 1\n",
    "print('count number of Booking Data took: '+str(time.time()-timeB))"
   ]
  },
  {
   "cell_type": "code",
   "execution_count": 13,
   "metadata": {
    "collapsed": false
   },
   "outputs": [
    {
     "name": "stdout",
     "output_type": "stream",
     "text": [
      "10000011\n"
     ]
    }
   ],
   "source": [
    "print(countB)"
   ]
  },
  {
   "cell_type": "code",
   "execution_count": 10,
   "metadata": {
    "collapsed": false
   },
   "outputs": [
    {
     "name": "stdout",
     "output_type": "stream",
     "text": [
      "Searches Data took: 160.325999975\n"
     ]
    }
   ],
   "source": [
    "timeS = time.time()\n",
    "countS = 0\n",
    "for line in open('Data/searches.csv'): countS += 1\n",
    "print('count number of Searches Data took: '+str(time.time()-timeS))"
   ]
  },
  {
   "cell_type": "code",
   "execution_count": 11,
   "metadata": {
    "collapsed": false
   },
   "outputs": [
    {
     "name": "stdout",
     "output_type": "stream",
     "text": [
      "20390199\n"
     ]
    }
   ],
   "source": [
    "print(countS)"
   ]
  },
  {
   "cell_type": "markdown",
   "metadata": {},
   "source": [
    "# Second exercise: top 10 arrival airports in the world in 2013"
   ]
  },
  {
   "cell_type": "markdown",
   "metadata": {},
   "source": [
    "Arrival airport is the column arr_port. It is the IATA code for the airport\n",
    "\n",
    "To get the total number of passengers for an airport, you can sum the column pax, grouping by arr_port. Note that there is negative pax. That corresponds to cancelations. So to get the total number of passengers that have actually booked, you should sum including the negatives (that will remove the cancelled bookings).\n",
    "\n",
    "Print the top 10 arrival airports in the standard output, including the number of passengers.\n",
    "\n",
    "Bonus point: Get the name of the city or airport corresponding to that airport (programatically, we suggest to have a look at GeoBases in Github)\n",
    "\n",
    "Bonus point: Solve this problem using pandas (instead of any other approach)"
   ]
  },
  {
   "cell_type": "code",
   "execution_count": 2,
   "metadata": {
    "collapsed": false
   },
   "outputs": [],
   "source": [
    "import pandas as pd\n",
    "import numpy as np\n",
    "from sqlalchemy import create_engine # database connection\n",
    "from GeoBases import GeoBase"
   ]
  },
  {
   "cell_type": "code",
   "execution_count": null,
   "metadata": {
    "collapsed": true
   },
   "outputs": [],
   "source": [
    "#remove space blanks from string values\n",
    "def strip(text):\n",
    "    try:\n",
    "        return str(text).strip() #avoid mixed types\n",
    "    except AttributeError:\n",
    "        return ''"
   ]
  },
  {
   "cell_type": "code",
   "execution_count": 6,
   "metadata": {
    "collapsed": true
   },
   "outputs": [],
   "source": [
    "disk_engine = create_engine('sqlite:///Data/database.db') # Initializes database with filename database.db in current directory"
   ]
  },
  {
   "cell_type": "code",
   "execution_count": 8,
   "metadata": {
    "collapsed": false,
    "scrolled": true
   },
   "outputs": [
    {
     "name": "stdout",
     "output_type": "stream",
     "text": [
      "saving in sql\n",
      "saving in sql\n",
      "saving in sql\n",
      "saving in sql\n",
      "saving in sql\n",
      "saving in sql\n",
      "saving in sql\n",
      "saving in sql\n",
      "saving in sql\n",
      "saving in sql\n",
      "saving in sql\n",
      "saving in sql\n",
      "saving in sql\n",
      "saving in sql\n",
      "saving in sql\n",
      "saving in sql\n",
      "saving in sql\n",
      "saving in sql\n",
      "saving in sql\n",
      "saving in sql\n",
      "saving in sql\n",
      "saving in sql\n",
      "saving in sql\n",
      "saving in sql\n",
      "saving in sql\n",
      "saving in sql\n",
      "saving in sql\n",
      "saving in sql\n",
      "saving in sql\n",
      "saving in sql\n",
      "saving in sql\n",
      "saving in sql\n",
      "saving in sql\n",
      "saving in sql\n",
      "saving in sql\n",
      "saving in sql\n",
      "saving in sql\n",
      "saving in sql\n",
      "saving in sql\n",
      "saving in sql\n",
      "saving in sql\n",
      "saving in sql\n",
      "saving in sql\n",
      "saving in sql\n",
      "saving in sql\n",
      "saving in sql\n",
      "saving in sql\n",
      "saving in sql\n",
      "saving in sql\n",
      "saving in sql\n",
      "saving in sql\n"
     ]
    },
    {
     "name": "stderr",
     "output_type": "stream",
     "text": [
      "C:\\Users\\miou\\Anaconda2\\lib\\site-packages\\ipykernel\\ipkernel.py:175: DtypeWarning: Columns (7,8,27) have mixed types. Specify dtype option on import or set low_memory=False.\n",
      "  shell.run_cell(code, store_history=store_history, silent=silent)\n"
     ]
    }
   ],
   "source": [
    "#start = dt.datetime.now()\n",
    "chunksize = 200000\n",
    "j = 1\n",
    "index_start = 1\n",
    "\n",
    "for df in pd.read_csv('Data/bookings.csv', chunksize=chunksize, iterator=True, encoding='utf-8', sep ='^'):\n",
    "    \n",
    "    df = df.rename(columns={c: c.replace(' ', '') for c in df.columns}) # Remove spaces from columns\n",
    "    df.index += index_start\n",
    "    \n",
    "    for col in df.columns:\n",
    "        if df.dtypes[col].name == 'object':\n",
    "            df[col] = df[col].map(lambda row:strip(row))\n",
    "        else:\n",
    "            df[col] = df[col].map(lambda row:make_int(row))\n",
    "                      \n",
    "    \n",
    "    print(str(j)+'. saving in sql')\n",
    "    \n",
    "    df.to_sql('bookings', disk_engine, if_exists='append')\n",
    "    index_start = df.index[-1] + 1\n",
    "    j = j + 1"
   ]
  },
  {
   "cell_type": "code",
   "execution_count": 31,
   "metadata": {
    "collapsed": false
   },
   "outputs": [],
   "source": [
    "df = pd.read_sql_query('SELECT arr_port, sum(pax) as `sum`'\n",
    "                       'FROM bookings '\n",
    "                       'GROUP BY arr_port ', disk_engine)"
   ]
  },
  {
   "cell_type": "code",
   "execution_count": 26,
   "metadata": {
    "collapsed": false
   },
   "outputs": [],
   "source": [
    "topArr = df.sort_values('sum',ascending = False)[:10]"
   ]
  },
  {
   "cell_type": "code",
   "execution_count": 27,
   "metadata": {
    "collapsed": false
   },
   "outputs": [],
   "source": [
    "geo_a = GeoBase(data='airports', verbose=False)\n",
    "topArr['arr_city'] = topArr['arr_port'].map(lambda value: geo_a.get(value, 'name'))"
   ]
  },
  {
   "cell_type": "code",
   "execution_count": 28,
   "metadata": {
    "collapsed": false
   },
   "outputs": [
    {
     "data": {
      "text/html": [
       "<div>\n",
       "<table border=\"1\" class=\"dataframe\">\n",
       "  <thead>\n",
       "    <tr style=\"text-align: right;\">\n",
       "      <th></th>\n",
       "      <th>arr_port</th>\n",
       "      <th>sum</th>\n",
       "      <th>arr_city</th>\n",
       "    </tr>\n",
       "  </thead>\n",
       "  <tbody>\n",
       "    <tr>\n",
       "      <th>1088</th>\n",
       "      <td>LHR</td>\n",
       "      <td>86836</td>\n",
       "      <td>London Heathrow Airport</td>\n",
       "    </tr>\n",
       "    <tr>\n",
       "      <th>1190</th>\n",
       "      <td>MCO</td>\n",
       "      <td>69199</td>\n",
       "      <td>Orlando International Airport</td>\n",
       "    </tr>\n",
       "    <tr>\n",
       "      <th>1050</th>\n",
       "      <td>LAX</td>\n",
       "      <td>69072</td>\n",
       "      <td>Los Angeles International Airport</td>\n",
       "    </tr>\n",
       "    <tr>\n",
       "      <th>1047</th>\n",
       "      <td>LAS</td>\n",
       "      <td>68117</td>\n",
       "      <td>McCarran International Airport</td>\n",
       "    </tr>\n",
       "    <tr>\n",
       "      <th>886</th>\n",
       "      <td>JFK</td>\n",
       "      <td>64872</td>\n",
       "      <td>John F Kennedy International Airport</td>\n",
       "    </tr>\n",
       "    <tr>\n",
       "      <th>315</th>\n",
       "      <td>CDG</td>\n",
       "      <td>63114</td>\n",
       "      <td>Paris - Charles-de-Gaulle</td>\n",
       "    </tr>\n",
       "    <tr>\n",
       "      <th>216</th>\n",
       "      <td>BKK</td>\n",
       "      <td>58180</td>\n",
       "      <td>Suvarnabhumi</td>\n",
       "    </tr>\n",
       "    <tr>\n",
       "      <th>1228</th>\n",
       "      <td>MIA</td>\n",
       "      <td>56859</td>\n",
       "      <td>Miami International Airport</td>\n",
       "    </tr>\n",
       "    <tr>\n",
       "      <th>1719</th>\n",
       "      <td>SFO</td>\n",
       "      <td>56679</td>\n",
       "      <td>San Francisco International Airport</td>\n",
       "    </tr>\n",
       "    <tr>\n",
       "      <th>517</th>\n",
       "      <td>DXB</td>\n",
       "      <td>54443</td>\n",
       "      <td>Dubai International Airport</td>\n",
       "    </tr>\n",
       "  </tbody>\n",
       "</table>\n",
       "</div>"
      ],
      "text/plain": [
       "     arr_port    sum                              arr_city\n",
       "1088      LHR  86836               London Heathrow Airport\n",
       "1190      MCO  69199         Orlando International Airport\n",
       "1050      LAX  69072     Los Angeles International Airport\n",
       "1047      LAS  68117        McCarran International Airport\n",
       "886       JFK  64872  John F Kennedy International Airport\n",
       "315       CDG  63114             Paris - Charles-de-Gaulle\n",
       "216       BKK  58180                          Suvarnabhumi\n",
       "1228      MIA  56859           Miami International Airport\n",
       "1719      SFO  56679   San Francisco International Airport\n",
       "517       DXB  54443           Dubai International Airport"
      ]
     },
     "execution_count": 28,
     "metadata": {},
     "output_type": "execute_result"
    }
   ],
   "source": [
    "topArr"
   ]
  },
  {
   "cell_type": "code",
   "execution_count": null,
   "metadata": {
    "collapsed": true
   },
   "outputs": [],
   "source": []
  }
 ],
 "metadata": {
  "kernelspec": {
   "display_name": "Python 2",
   "language": "python",
   "name": "python2"
  },
  "language_info": {
   "codemirror_mode": {
    "name": "ipython",
    "version": 2
   },
   "file_extension": ".py",
   "mimetype": "text/x-python",
   "name": "python",
   "nbconvert_exporter": "python",
   "pygments_lexer": "ipython2",
   "version": "2.7.11"
  }
 },
 "nbformat": 4,
 "nbformat_minor": 0
}
